{
 "cells": [
  {
   "cell_type": "markdown",
   "metadata": {},
   "source": [
    "<h1>Leaf Disease Classification - Keras CNN</h1>\n",
    "<img \n",
    "style=\"width : 100%;margin: auto;\"    \n",
    "src=\"https://www.google.com/search?q=leaf+disease&sxsrf=ALiCzsb-Fr5LvT82eoxXJt3fDQmP8Qo_cA:1654161628719&source=lnms&tbm=isch&sa=X&ved=2ahUKEwiGpZ-iuI74AhVKBaYKHYEJBIMQ_AUoAXoECAIQAw&biw=1707&bih=806&dpr=1.13#imgrc=BJHS-ZYd7zmuTM&imgdii=O8NuCBPDZa8ipM>"
   ]
  },
  {
   "cell_type": "code",
   "execution_count": 1,
   "metadata": {
    "execution": {
     "iopub.execute_input": "2022-06-02T07:47:26.902364Z",
     "iopub.status.busy": "2022-06-02T07:47:26.901609Z",
     "iopub.status.idle": "2022-06-02T07:47:33.47995Z",
     "shell.execute_reply": "2022-06-02T07:47:33.478974Z",
     "shell.execute_reply.started": "2022-06-02T07:47:26.90232Z"
    }
   },
   "outputs": [],
   "source": [
    "import os\n",
    "import random\n",
    "import shutil\n",
    "from shutil import copy2"
   ]
  },
  {
   "cell_type": "code",
   "execution_count": 2,
   "metadata": {},
   "outputs": [],
   "source": [
    "\n",
    "\n",
    "def split_directory(main_dir, dir1, dir2, dir1_split):\n",
    "    \"\"\"\n",
    "    Splits the contents of the directories in main_dir into \n",
    "    two, dir1 and dir2, with the dir1_split as the percentage\n",
    "    of the content that will go into dir1\n",
    "    \"\"\"\n",
    "    \n",
    "    # delete directories if they exist.\n",
    "    if os.path.isdir(dir1):\n",
    "        shutil.rmtree(dir1)\n",
    "        shutil.rmtree(dir2)\n",
    "    \n",
    "    # Create train and test folders if they don't exist\n",
    "    os.makedirs(dir1, exist_ok=True)\n",
    "    os.makedirs(dir2, exist_ok=True)\n",
    "\n",
    "    image_dirs = os.listdir(main_dir)\n",
    "    dir_count = int(len(image_dirs))\n",
    "\n",
    "    for direc in image_dirs:\n",
    "        if os.path.isdir(main_dir + \"/\" + direc):\n",
    "            images = os.listdir(main_dir + \"/\" + direc)\n",
    "            random.shuffle(images)  # Shuffle images for random split\n",
    "\n",
    "            # Specify your desired split ratio (e.g., 90% train, 10% test)\n",
    "            train_count = int(len(images) * dir1_split)\n",
    "\n",
    "            # Create train and test folders for each class\n",
    "            os.makedirs(dir1 + \"/\" + direc, exist_ok=True)\n",
    "            os.makedirs(dir2 + \"/\" + direc, exist_ok=True)\n",
    "\n",
    "            for image in images[:train_count]:\n",
    "                source = os.path.join(main_dir, direc, image)\n",
    "                dest = os.path.join(dir1, direc, image)\n",
    "                copy2(source, dest)  # Copy image to train directory\n",
    "\n",
    "            for image in images[train_count:]:\n",
    "                source = os.path.join(main_dir, direc, image)\n",
    "                dest = os.path.join(dir2, direc, image)\n",
    "                copy2(source, dest)  # Copy image to test directory"
   ]
  },
  {
   "cell_type": "code",
   "execution_count": 3,
   "metadata": {
    "execution": {
     "iopub.execute_input": "2022-06-02T07:47:39.169696Z",
     "iopub.status.busy": "2022-06-02T07:47:39.16899Z",
     "iopub.status.idle": "2022-06-02T07:48:24.668943Z",
     "shell.execute_reply": "2022-06-02T07:48:24.668144Z",
     "shell.execute_reply.started": "2022-06-02T07:47:39.169658Z"
    }
   },
   "outputs": [],
   "source": [
    "\n",
    "image_dir = \"tomato\"\n",
    "train_dir = \"tomato_diseases/train\"\n",
    "test_dir = \"tomato_diseases/test\"\n",
    "\n",
    "split_directory(image_dir, train_dir, test_dir, 0.8)"
   ]
  }
 ],
 "metadata": {
  "kaggle": {
   "accelerator": "gpu",
   "dataSources": [
    {
     "datasetId": 78313,
     "sourceId": 182633,
     "sourceType": "datasetVersion"
    }
   ],
   "dockerImageVersionId": 30198,
   "isGpuEnabled": true,
   "isInternetEnabled": true,
   "language": "python",
   "sourceType": "notebook"
  },
  "kernelspec": {
   "display_name": "Python 3 (ipykernel)",
   "language": "python",
   "name": "python3"
  },
  "language_info": {
   "codemirror_mode": {
    "name": "ipython",
    "version": 3
   },
   "file_extension": ".py",
   "mimetype": "text/x-python",
   "name": "python",
   "nbconvert_exporter": "python",
   "pygments_lexer": "ipython3",
   "version": "3.11.4"
  }
 },
 "nbformat": 4,
 "nbformat_minor": 4
}
